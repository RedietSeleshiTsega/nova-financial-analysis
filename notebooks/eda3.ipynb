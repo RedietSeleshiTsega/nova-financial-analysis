{
 "cells": [
  {
   "cell_type": "code",
   "execution_count": 49,
   "id": "4d395933",
   "metadata": {},
   "outputs": [],
   "source": [
    "import pandas as pd\n",
    "import numpy as np\n",
    "from textblob import TextBlob\n",
    "import os\n",
    "from tqdm import tqdm\n",
    "\n",
    "tqdm.pandas()"
   ]
  },
  {
   "cell_type": "code",
   "execution_count": 50,
   "id": "db62f215",
   "metadata": {},
   "outputs": [],
   "source": [
    "news_path = r\"C:\\Users\\bless\\OneDrive\\Desktop\\week-2\\nova-financial-analysis\\data\\raw\\raw_analyst_ratings.csv\"\n",
    "stock_dir = r\"C:\\Users\\bless\\OneDrive\\Desktop\\week-2\\nova-financial-analysis\\data\\stocks\"\n",
    "stock_symbols = ['AAPL', 'AMZN', 'GOOG', 'META', 'MSFT', 'NVDA', 'TSLA']"
   ]
  },
  {
   "cell_type": "code",
   "execution_count": 51,
   "id": "026bf114",
   "metadata": {},
   "outputs": [],
   "source": [
    "news_df = pd.read_csv(news_path)"
   ]
  },
  {
   "cell_type": "code",
   "execution_count": 52,
   "id": "947c6398",
   "metadata": {},
   "outputs": [],
   "source": [
    "news_df['date'] = pd.to_datetime(news_df['date'], errors='coerce')\n",
    "news_df = news_df.dropna(subset=['date'])"
   ]
  },
  {
   "cell_type": "code",
   "execution_count": 53,
   "id": "5084a334",
   "metadata": {},
   "outputs": [
    {
     "name": "stdout",
     "output_type": "stream",
     "text": [
      "   Unnamed: 0                                           headline  \\\n",
      "0           0            Stocks That Hit 52-Week Highs On Friday   \n",
      "1           1         Stocks That Hit 52-Week Highs On Wednesday   \n",
      "2           2                      71 Biggest Movers From Friday   \n",
      "3           3       46 Stocks Moving In Friday's Mid-Day Session   \n",
      "4           4  B of A Securities Maintains Neutral on Agilent...   \n",
      "\n",
      "                                                 url          publisher  \\\n",
      "0  https://www.benzinga.com/news/20/06/16190091/s...  Benzinga Insights   \n",
      "1  https://www.benzinga.com/news/20/06/16170189/s...  Benzinga Insights   \n",
      "2  https://www.benzinga.com/news/20/05/16103463/7...         Lisa Levin   \n",
      "3  https://www.benzinga.com/news/20/05/16095921/4...         Lisa Levin   \n",
      "4  https://www.benzinga.com/news/20/05/16095304/b...         Vick Meyer   \n",
      "\n",
      "         date stock  \n",
      "0  2020-06-05     A  \n",
      "1  2020-06-03     A  \n",
      "2  2020-05-26     A  \n",
      "3  2020-05-22     A  \n",
      "4  2020-05-22     A  \n"
     ]
    }
   ],
   "source": [
    "news_df['date'] = news_df['date'].dt.date\n",
    "print(news_df.head())"
   ]
  },
  {
   "cell_type": "code",
   "execution_count": 54,
   "id": "3ae9f33c",
   "metadata": {},
   "outputs": [],
   "source": [
    "def get_sentiment(text):\n",
    "    return TextBlob(str(text)).sentiment.polarity"
   ]
  },
  {
   "cell_type": "code",
   "execution_count": 55,
   "id": "ddb1e8d5",
   "metadata": {},
   "outputs": [
    {
     "name": "stderr",
     "output_type": "stream",
     "text": [
      "100%|██████████| 55987/55987 [00:16<00:00, 3355.20it/s]"
     ]
    },
    {
     "name": "stdout",
     "output_type": "stream",
     "text": [
      "         date stock  sentiment\n",
      "0  2011-04-27   DGP   0.000000\n",
      "1  2011-04-28   DEJ   0.000000\n",
      "2  2011-04-28   ESR   0.136364\n",
      "3  2011-04-29   AIA  -0.166667\n",
      "4  2011-04-29   GDL   0.500000\n"
     ]
    },
    {
     "name": "stderr",
     "output_type": "stream",
     "text": [
      "\n"
     ]
    }
   ],
   "source": [
    "news_df['sentiment'] = news_df['headline'].progress_apply(get_sentiment)\n",
    "\n",
    "daily_sentiment = news_df.groupby(['date', 'stock']).agg({'sentiment': 'mean'}).reset_index()\n",
    "\n",
    "print(daily_sentiment.head())"
   ]
  },
  {
   "cell_type": "code",
   "execution_count": 56,
   "id": "a8df51e2",
   "metadata": {},
   "outputs": [],
   "source": [
    "def load_stock_data(stock_symbol):\n",
    "    path = os.path.join(stock_dir, f\"{stock_symbol}_historical_data.csv\")\n",
    "    df = pd.read_csv(path)\n",
    "\n",
    "\n",
    "    df['Date'] = pd.to_datetime(df['Date']).dt.date\n",
    "\n",
    "\n",
    "    df = df.sort_values('Date')\n",
    "    df['daily_return_next'] = df['Close'].pct_change().shift(-1)  \n",
    "    return df[['Date', 'daily_return_next']]\n"
   ]
  },
  {
   "cell_type": "code",
   "execution_count": 57,
   "id": "960bb3b7",
   "metadata": {},
   "outputs": [
    {
     "name": "stdout",
     "output_type": "stream",
     "text": [
      "\n",
      "Processing AAPL...\n",
      "Merged rows for AAPL: 2\n",
      "Correlation for AAPL: -1.0\n",
      "\n",
      "Processing AMZN...\n",
      "Merged rows for AMZN: 2\n",
      "Correlation for AMZN: -0.9999999999999998\n",
      "\n",
      "Processing GOOG...\n",
      "Merged rows for GOOG: 5\n",
      "Correlation for GOOG: 0.10930744944084761\n",
      "\n",
      "Processing META...\n",
      "Merged rows for META: 0\n",
      "Correlation for META: nan\n",
      "\n",
      "Processing MSFT...\n",
      "Merged rows for MSFT: 0\n",
      "Correlation for MSFT: nan\n",
      "\n",
      "Processing NVDA...\n",
      "Merged rows for NVDA: 4\n",
      "Correlation for NVDA: 0.36111448918472894\n",
      "\n",
      "Processing TSLA...\n",
      "Merged rows for TSLA: 1\n",
      "Correlation for TSLA: nan\n"
     ]
    },
    {
     "name": "stderr",
     "output_type": "stream",
     "text": [
      "c:\\Users\\bless\\OneDrive\\Desktop\\week-2\\nova-financial-analysis\\venv\\Lib\\site-packages\\numpy\\lib\\_function_base_impl.py:3057: RuntimeWarning: Degrees of freedom <= 0 for slice\n",
      "  c = cov(x, y, rowvar, dtype=dtype)\n",
      "c:\\Users\\bless\\OneDrive\\Desktop\\week-2\\nova-financial-analysis\\venv\\Lib\\site-packages\\numpy\\lib\\_function_base_impl.py:2914: RuntimeWarning: divide by zero encountered in divide\n",
      "  c *= np.true_divide(1, fact)\n",
      "c:\\Users\\bless\\OneDrive\\Desktop\\week-2\\nova-financial-analysis\\venv\\Lib\\site-packages\\numpy\\lib\\_function_base_impl.py:2914: RuntimeWarning: invalid value encountered in multiply\n",
      "  c *= np.true_divide(1, fact)\n"
     ]
    }
   ],
   "source": [
    "results = {}\n",
    "\n",
    "for stock in stock_symbols:\n",
    "    print(f\"\\nProcessing {stock}...\")\n",
    "    stock_df = load_stock_data(stock)\n",
    " \n",
    "    stock_sentiment = daily_sentiment[daily_sentiment['stock'] == stock].copy()\n",
    "\n",
    "    merged_df = pd.merge(stock_sentiment, stock_df, left_on='date', right_on='Date', how='inner')\n",
    "\n",
    "    merged_df.dropna(subset=['sentiment', 'daily_return_next'], inplace=True)\n",
    "    print(f\"Merged rows for {stock}: {len(merged_df)}\")\n",
    "\n",
    "    if len(merged_df) > 0:\n",
    "        corr = merged_df['sentiment'].corr(merged_df['daily_return_next'])\n",
    "    else:\n",
    "        corr = np.nan\n",
    "\n",
    "    results[stock] = corr\n",
    "    print(f\"Correlation for {stock}: {corr}\")\n",
    "\n",
    "\n",
    "\n"
   ]
  },
  {
   "cell_type": "code",
   "execution_count": 58,
   "id": "720d8fc4",
   "metadata": {},
   "outputs": [
    {
     "name": "stdout",
     "output_type": "stream",
     "text": [
      "\n",
      "=== Summary of Correlations ===\n",
      "AAPL: -1.0\n",
      "AMZN: -0.9999999999999998\n",
      "GOOG: 0.10930744944084761\n",
      "META: nan\n",
      "MSFT: nan\n",
      "NVDA: 0.36111448918472894\n",
      "TSLA: nan\n"
     ]
    }
   ],
   "source": [
    "print(\"\\n=== Summary of Correlations ===\")\n",
    "for stock, corr in results.items():\n",
    "    print(f\"{stock}: {corr}\")"
   ]
  }
 ],
 "metadata": {
  "kernelspec": {
   "display_name": "venv",
   "language": "python",
   "name": "python3"
  },
  "language_info": {
   "codemirror_mode": {
    "name": "ipython",
    "version": 3
   },
   "file_extension": ".py",
   "mimetype": "text/x-python",
   "name": "python",
   "nbconvert_exporter": "python",
   "pygments_lexer": "ipython3",
   "version": "3.13.4"
  }
 },
 "nbformat": 4,
 "nbformat_minor": 5
}
